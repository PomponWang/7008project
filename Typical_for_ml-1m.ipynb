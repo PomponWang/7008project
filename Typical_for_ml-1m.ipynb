{
 "cells": [
  {
   "cell_type": "code",
   "execution_count": 1,
   "metadata": {},
   "outputs": [],
   "source": [
    "import pandas as pd\n",
    "import os\n",
    "from sklearn.feature_extraction.text import CountVectorizer\n",
    "from sklearn.metrics.pairwise import cosine_similarity"
   ]
  },
  {
   "cell_type": "code",
   "execution_count": 2,
   "metadata": {},
   "outputs": [
    {
     "name": "stderr",
     "output_type": "stream",
     "text": [
      "C:\\Users\\AlanJobs\\AppData\\Local\\Temp\\ipykernel_21828\\1564436531.py:3: ParserWarning: Falling back to the 'python' engine because the 'c' engine does not support regex separators (separators > 1 char and different from '\\s+' are interpreted as regex); you can avoid this warning by specifying engine='python'.\n",
      "  users = pd.read_table(os.path.join(folder_path,'users.dat'), sep='::', header=None, names=unames)\n",
      "C:\\Users\\AlanJobs\\AppData\\Local\\Temp\\ipykernel_21828\\1564436531.py:5: ParserWarning: Falling back to the 'python' engine because the 'c' engine does not support regex separators (separators > 1 char and different from '\\s+' are interpreted as regex); you can avoid this warning by specifying engine='python'.\n",
      "  ratings = pd.read_table(os.path.join(folder_path,'ratings.dat'), sep = '::', header=None, names=rnames)\n"
     ]
    }
   ],
   "source": [
    "folder_path = r'.\\ml-1m' \n",
    "unames = ['user_id', 'gender', 'age', 'occupation', 'zip'] \n",
    "users = pd.read_table(os.path.join(folder_path,'users.dat'), sep='::', header=None, names=unames)\n",
    "rnames = ['user_id', 'movie_id', 'rating',\t'timestamp'] \n",
    "ratings = pd.read_table(os.path.join(folder_path,'ratings.dat'), sep = '::', header=None, names=rnames) \n",
    "mnames = ['movie_id', 'title', 'genres'] \n",
    "movies = pd.read_table(os.path.join(folder_path,'movies.dat'),sep='::',header=None,\tnames=mnames,engine='python', encoding='ISO-8859-1')"
   ]
  },
  {
   "cell_type": "code",
   "execution_count": 3,
   "metadata": {},
   "outputs": [
    {
     "name": "stdout",
     "output_type": "stream",
     "text": [
      "   user_id gender  age  occupation    zip\n",
      "0        1      F    1          10  48067\n",
      "1        2      M   56          16  70072\n",
      "2        3      M   25          15  55117\n",
      "3        4      M   45           7  02460\n",
      "4        5      M   25          20  55455\n",
      "   user_id  movie_id  rating  timestamp\n",
      "0        1      1193       5  978300760\n",
      "1        1       661       3  978302109\n",
      "2        1       914       3  978301968\n",
      "3        1      3408       4  978300275\n",
      "4        1      2355       5  978824291\n",
      "   movie_id                               title                        genres\n",
      "0         1                    Toy Story (1995)   Animation|Children's|Comedy\n",
      "1         2                      Jumanji (1995)  Adventure|Children's|Fantasy\n",
      "2         3             Grumpier Old Men (1995)                Comedy|Romance\n",
      "3         4            Waiting to Exhale (1995)                  Comedy|Drama\n",
      "4         5  Father of the Bride Part II (1995)                        Comedy\n"
     ]
    }
   ],
   "source": [
    "print(users[:5])\n",
    "print(ratings[:5])\n",
    "print(movies[:5])"
   ]
  },
  {
   "cell_type": "code",
   "execution_count": 4,
   "metadata": {},
   "outputs": [
    {
     "name": "stdout",
     "output_type": "stream",
     "text": [
      "['action' 'adventure' 'animation' \"children's\" 'comedy' 'crime'\n",
      " 'documentary' 'drama' 'fantasy' 'film-noir' 'horror' 'musical' 'mystery'\n",
      " 'romance' 'sci-fi' 'thriller' 'war' 'western']\n"
     ]
    },
    {
     "name": "stderr",
     "output_type": "stream",
     "text": [
      "c:\\ProgramData\\anaconda3\\lib\\site-packages\\sklearn\\feature_extraction\\text.py:528: UserWarning: The parameter 'token_pattern' will not be used since 'tokenizer' is not None'\n",
      "  warnings.warn(\n"
     ]
    }
   ],
   "source": [
    "vectorizer = CountVectorizer(tokenizer=lambda x: x.split('|'))\n",
    "genres_matrix = vectorizer.fit_transform(movies['genres'])\n",
    "feature_names = vectorizer.get_feature_names_out()\n",
    "print(feature_names)"
   ]
  },
  {
   "cell_type": "code",
   "execution_count": 5,
   "metadata": {},
   "outputs": [
    {
     "name": "stdout",
     "output_type": "stream",
     "text": [
      "(3883, 18)\n",
      "  (0, 2)\t1\n",
      "  (0, 3)\t1\n",
      "  (0, 4)\t1\n",
      "  (1, 3)\t1\n",
      "  (1, 1)\t1\n",
      "  (1, 8)\t1\n",
      "  (2, 4)\t1\n",
      "  (2, 13)\t1\n",
      "  (3, 4)\t1\n",
      "  (3, 7)\t1\n",
      "  (4, 4)\t1\n"
     ]
    }
   ],
   "source": [
    "# 这是一个稀疏矩阵，含义是第 0 部电影中第 2 种类型出现了 1 次 ---> (0, 2) 1\n",
    "print(genres_matrix.shape)\n",
    "print(genres_matrix[:5])"
   ]
  },
  {
   "cell_type": "code",
   "execution_count": 6,
   "metadata": {},
   "outputs": [
    {
     "name": "stdout",
     "output_type": "stream",
     "text": [
      "(3883, 3883)\n",
      "[[1.         0.33333333 0.40824829 ... 0.         0.         0.        ]\n",
      " [0.33333333 1.         0.         ... 0.         0.         0.        ]\n",
      " [0.40824829 0.         1.         ... 0.         0.         0.        ]\n",
      " ...\n",
      " [0.         0.         0.         ... 1.         1.         0.70710678]\n",
      " [0.         0.         0.         ... 1.         1.         0.70710678]\n",
      " [0.         0.         0.         ... 0.70710678 0.70710678 1.        ]]\n"
     ]
    }
   ],
   "source": [
    "#余弦相似度 [-1,1] (i,j)\n",
    "cosine_sim = cosine_similarity(genres_matrix)\n",
    "print(cosine_sim.shape)\n",
    "print(cosine_sim)"
   ]
  },
  {
   "cell_type": "code",
   "execution_count": 8,
   "metadata": {},
   "outputs": [
    {
     "name": "stdout",
     "output_type": "stream",
     "text": [
      "['Grumpier Old Men (1995)', 'Mortal Kombat (1995)', 'Fair Game (1995)', 'Bed of Roses (1996)', 'Once Upon a Time... When We Were Colored (1995)']\n"
     ]
    }
   ],
   "source": [
    "def content_based_recommendation(user_id,number):\n",
    "\n",
    "    #user_id评论过的电影\n",
    "    user_movies = ratings[ratings['user_id'] == user_id]\n",
    "    movie_indices = user_movies['movie_id'].values\n",
    "    # 求出每个电影与评论过的电影的相似度的和（这里ppt可以详细画张图解释，比如我评论过了第i，j行，那么矩阵第一列（即第一个电影）的i,j行的和就是第一个电影和我评论过的电影的相似度和\n",
    "    scores = cosine_sim[movie_indices].sum(axis=0)\n",
    "    recommended_movie_indices = sorted(range(len(scores)), key=lambda i: scores[i], reverse=True)\n",
    "    # 将矩阵的维度说明下\n",
    "    #print(user_movies)\n",
    "    #print((movie_indices)) 1用户评论过53个电影\n",
    "    #print(len(scores))3883\n",
    "    #print(recommended_movie_indices)\n",
    "    recommended_movie_names=[]\n",
    "    for index,i in enumerate(recommended_movie_indices):\n",
    "        if(index==number):\n",
    "            break\n",
    "        recommended_movie_names.append(movies.loc[movies['movie_id'] == i, 'title'].values[0])\n",
    "    return recommended_movie_names\n",
    "user_id = 1\n",
    "number = 5\n",
    "print(content_based_recommendation(user_id,number))"
   ]
  }
 ],
 "metadata": {
  "kernelspec": {
   "display_name": "base",
   "language": "python",
   "name": "python3"
  },
  "language_info": {
   "codemirror_mode": {
    "name": "ipython",
    "version": 3
   },
   "file_extension": ".py",
   "mimetype": "text/x-python",
   "name": "python",
   "nbconvert_exporter": "python",
   "pygments_lexer": "ipython3",
   "version": "3.10.9"
  }
 },
 "nbformat": 4,
 "nbformat_minor": 2
}
